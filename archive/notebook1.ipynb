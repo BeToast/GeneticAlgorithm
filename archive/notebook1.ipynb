{
 "cells": [
  {
   "cell_type": "code",
   "execution_count": 43,
   "metadata": {},
   "outputs": [],
   "source": [
    "import random as rd\n",
    "import matplotlib.pyplot as plt"
   ]
  },
  {
   "attachments": {},
   "cell_type": "markdown",
   "metadata": {},
   "source": [
    "Beginning Assignment 1\n",
    "\n",
    "1. One-max problem.\n",
    "Consider the simple case of evolving a string that contains all 1s in every location. Let the\n",
    "length of the strings be 30.\n",
    "The initial population should be randomly created. Use standard mutation and one-point\n",
    "crossover. \n",
    "The fitness of a solution is the number of 1s in the string.\n",
    "Plot the average fitness of the population versus the generations passed.\n",
    "This exercise is to show the operation of a genetic algorithm. Clearly, we know the\n",
    "optimal solution in advance."
   ]
  },
  {
   "cell_type": "code",
   "execution_count": 44,
   "metadata": {},
   "outputs": [],
   "source": [
    "def calc_fitness(input_string):\n",
    "    return input_string.count(\"1\")"
   ]
  },
  {
   "cell_type": "code",
   "execution_count": 45,
   "metadata": {},
   "outputs": [],
   "source": [
    "def update_fitness(population):\n",
    "    cumulative_fitness = 0\n",
    "    for person in population:\n",
    "        person[\"fitness\"]=calc_fitness(person[\"dna\"])\n",
    "        cumulative_fitness += person[\"fitness\"]\n",
    "    return cumulative_fitness/len(population) #return the average fitness for this generation."
   ]
  },
  {
   "cell_type": "code",
   "execution_count": 46,
   "metadata": {},
   "outputs": [],
   "source": [
    "##randomly initialising the population\n",
    "def initialise_population(pop_size,length_of_dna,possible_dna_values):\n",
    "    population=[]\n",
    "    max_dna_value=max(possible_dna_values)\n",
    "    min_dna_value=min(possible_dna_values)\n",
    "    for j in range(pop_size):\n",
    "        initial=\"\"\n",
    "\n",
    "        for i in range(0,length_of_dna):\n",
    "            initial+= str(rd.randint(min_dna_value,max_dna_value))\n",
    "            #making a dict for each gladiator.\n",
    "        gladiator={\"dna\":initial,\"fitness\":calc_fitness(initial),\"losses\":0, \"wins\":0}\n",
    "\n",
    "        population.append(gladiator)\n",
    "\n",
    "    update_fitness(population)\n",
    "\n",
    "    return population # returning a list of generated populations"
   ]
  },
  {
   "cell_type": "code",
   "execution_count": 47,
   "metadata": {},
   "outputs": [],
   "source": [
    "#a \"fight\" is just fitness of x vs fitness of y. The gladiator with greater fitness \"wins\"\n",
    "#winner moves on to the next generation. Losers?\n",
    "\n",
    "def fight(gladiators): #gladiators is a list of gladiators.\n",
    "    currWinner = gladiators[0]\n",
    "    for i in range(1, len(gladiators)):\n",
    "        if gladiators[i][\"fitness\"] > currWinner[\"fitness\"]:\n",
    "            currWinner = gladiators[i]\n",
    "    return currWinner"
   ]
  },
  {
   "cell_type": "code",
   "execution_count": 48,
   "metadata": {},
   "outputs": [],
   "source": [
    "#returns strongest_gladiators with size population/tournament_size\n",
    "def tournament_selection(tournament_size,population):\n",
    "    \n",
    "    strongest_gladiators=[]\n",
    "    num_fights=round(len(population)/tournament_size)\n",
    "    for i in range(0, num_fights):\n",
    "\n",
    "        #giving fighters a pass\n",
    "        if (len(population)<tournament_size):\n",
    "            strongest_gladiators.append(population)\n",
    "            print(\"Not enough fighters\")\n",
    "            return strongest_gladiators\n",
    "           \n",
    "\n",
    "        #print(\"Before fight\",len(population))\n",
    "        \n",
    "        #randomly choosing tournament_size fighters to fight\n",
    "        gladiators_to_fight=rd.sample(population,tournament_size) #has issues on large tournament size\n",
    "\n",
    "\n",
    "        #getting the winner of the fight and adding him to winners list\n",
    "        strongest_gladiators.append(fight(gladiators_to_fight)) \n",
    "\n",
    "        #remove combatants from population\n",
    "        for gladiator in gladiators_to_fight:\n",
    "            population.remove(gladiator)\n",
    "\n",
    "    return strongest_gladiators"
   ]
  },
  {
   "cell_type": "code",
   "execution_count": 49,
   "metadata": {},
   "outputs": [],
   "source": [
    "#The Mutation function\n",
    "\n",
    "def mutation(population,mutation_possibilities):\n",
    "\n",
    "    for person in population:\n",
    "\n",
    "        dna_to_mutate=person[\"dna\"]\n",
    "        new_dna=[] #list to create the mutated dna\n",
    "        for i in range(0,len(dna_to_mutate)):\n",
    "           \n",
    "            if(rd.randint(0,10)<2): #chance to mutate (20% by default)\n",
    "                mutation_char=mutation_possibilities[rd.randint(0,len(mutation_possibilities)-1)]\n",
    "                new_dna.append(str(mutation_char) ) #what it mutates to\n",
    "            else:\n",
    "                new_dna.append(str(dna_to_mutate[i]))\n",
    "    \n",
    "        person[\"dna\"]=\"\".join(new_dna)\n",
    "    \n",
    "    return population"
   ]
  },
  {
   "cell_type": "code",
   "execution_count": 50,
   "metadata": {},
   "outputs": [],
   "source": [
    "#The Cross-over function\n",
    "def cross_over_two_parents(parents, dna_length):\n",
    "    dna_parent_one=parents[0][\"dna\"]\n",
    "    dna_parent_two=parents[1][\"dna\"]\n",
    "    cross_over_index = rd.randint(0, dna_length-1)\n",
    "    slice_one = slice(cross_over_index)\n",
    "    slice_two = slice(cross_over_index, dna_length)\n",
    "\n",
    "    children = []\n",
    "\n",
    "    ###NOTE: @Blake, shouldn't each Child be a gladiator object?. They just can't be strings. I've made the change\n",
    "   \n",
    "    #children.append(dna_parent_one[slice_one]+dna_parent_two[slice_two])\n",
    "    #children.append(dna_parent_two[slice_one]+dna_parent_one[slice_two])\n",
    "    dna_child1=str(dna_parent_one[slice_one])+str(dna_parent_two[slice_two])\n",
    "    dna_child2=str(dna_parent_two[slice_one])+str(dna_parent_one[slice_two])\n",
    "    \n",
    "    child1={\"dna\":dna_child1,\"fitness\":calc_fitness(dna_child1),\"losses\":0, \"wins\":0}\n",
    "    child2={\"dna\":dna_child2,\"fitness\":calc_fitness(dna_child2),\"losses\":0, \"wins\":0}\n",
    "\n",
    "    children.append(child1)\n",
    "    children.append(child2)\n",
    "    \n",
    "    return children"
   ]
  },
  {
   "attachments": {},
   "cell_type": "markdown",
   "metadata": {},
   "source": [
    "Graph generation code below:"
   ]
  },
  {
   "cell_type": "code",
   "execution_count": 51,
   "metadata": {},
   "outputs": [],
   "source": [
    "#Plot the average fitness of the population versus the generations passed.\n",
    "def generate_graph(average_fitness_list, length):\n",
    "    plt.xlabel(\"Average Fitness of Population\")\n",
    "    plt.ylabel(\"Generations Passed\")\n",
    "    plt.title(\"Plotting average fitness of population against Generations passed\")\n",
    "\n",
    "    print(f\"Max fitness value identified: {max(average_fitness_list)}\")\n",
    "\n",
    "    generations=list(range(0,length))\n",
    "    #for i in range (0,len(average_fitness_list)):\n",
    "        #plt.plot(average_fitness_list[i],i,\"-\",marker=\"D\")\n",
    "\n",
    "    plt.plot(average_fitness_list,generations,\"-\",marker=\"D\")\n",
    "    plt.show()"
   ]
  },
  {
   "cell_type": "code",
   "execution_count": 52,
   "metadata": {},
   "outputs": [],
   "source": [
    "def convergence(population,optimal_dna):\n",
    "    for person in population:\n",
    "        if(person[\"dna\"]==optimal_dna):\n",
    "            return 1\n",
    "\n",
    "    return 0"
   ]
  },
  {
   "cell_type": "code",
   "execution_count": 53,
   "metadata": {},
   "outputs": [
    {
     "name": "stdout",
     "output_type": "stream",
     "text": [
      "Max fitness value identified: 19.65\n"
     ]
    },
    {
     "data": {
      "image/png": "[encoded data removed]",
      "text/plain": [
       "<Figure size 432x288 with 1 Axes>"
      ]
     },
     "metadata": {
      "needs_background": "light"
     },
     "output_type": "display_data"
    }
   ],
   "source": [
    "generations_passed=0\n",
    "max_generations=10\n",
    "tournament_size=2\n",
    "chance_to_mutate=0#do this\n",
    "possible_dna_values=[0,1]\n",
    "dna_length=30\n",
    "\n",
    "optimal_dna=\"1\"*dna_length\n",
    "#possible_dna_values=range(0,10)\n",
    "original_population=100\n",
    "average_fitness_list=[]\n",
    "\n",
    "population= initialise_population(original_population,dna_length,possible_dna_values)\n",
    "\n",
    "while(generations_passed<max_generations):\n",
    "    winners=tournament_selection(tournament_size,population)\n",
    "    population=winners\n",
    "\n",
    "    #cross-over winners\n",
    "    children=cross_over(population,dna_length,original_population)\n",
    "\n",
    "    #print(\"Kids returned:\",len(children))\n",
    "    \n",
    "    ##add their kids back into population  \n",
    "    # NOTE: @Blake, population will not be maintained as for x parents, only x/2 kids are generated (not x kids0)\n",
    "    for child in children:\n",
    "         population.append(child)\n",
    "\n",
    "    #print(\"Population after kids\",len(population))\n",
    "    #mutate population\n",
    "    population=mutation(population,possible_dna_values)\n",
    "\n",
    "    average_fitness_list.append(update_fitness(population))\n",
    "\n",
    "    ##increase generations_passed\n",
    "    generations_passed+=1\n",
    "    #if perfect fitness then break or max_generations reached break\n",
    "    \n",
    "    if(convergence(population,optimal_dna)): #if convergence has been reached, break out of the loop\n",
    "\n",
    "        print(\"Converged!\")        \n",
    "        break\n",
    "\n",
    "generate_graph(average_fitness_list,len(average_fitness_list))"
   ]
  }
 ],
 "metadata": {
  "kernelspec": {
   "display_name": "Python 3",
   "language": "python",
   "name": "python3"
  },
  "language_info": {
   "codemirror_mode": {
    "name": "ipython",
    "version": 3
   },
   "file_extension": ".py",
   "mimetype": "text/x-python",
   "name": "python",
   "nbconvert_exporter": "python",
   "pygments_lexer": "ipython3",
   "version": "3.9.2 (default, Jun 14 2022, 10:40:52) \n[Clang 13.1.6 (clang-1316.0.21.2.5)]"
  },
  "orig_nbformat": 4,
  "vscode": {
   "interpreter": {
    "hash": "782b74f2e4313f5ba5f8d3e58b69b6f12d2c57dcff4e6d40dc349a6363126f1f"
   }
  }
 },
 "nbformat": 4,
 "nbformat_minor": 2
}
